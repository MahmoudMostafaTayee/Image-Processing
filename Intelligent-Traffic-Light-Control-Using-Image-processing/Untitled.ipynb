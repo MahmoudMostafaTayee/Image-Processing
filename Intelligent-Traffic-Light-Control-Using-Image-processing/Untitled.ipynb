{
 "cells": [
  {
   "cell_type": "markdown",
   "metadata": {},
   "source": [
    "### Save the video frames as JPG photos"
   ]
  },
  {
   "cell_type": "code",
   "execution_count": 6,
   "metadata": {},
   "outputs": [
    {
     "name": "stdout",
     "output_type": "stream",
     "text": [
      "Read a new frame:  True\n",
      "Read a new frame:  True\n",
      "Read a new frame:  True\n",
      "Read a new frame:  True\n",
      "Read a new frame:  True\n",
      "Read a new frame:  True\n",
      "Read a new frame:  True\n",
      "Read a new frame:  True\n",
      "Read a new frame:  True\n",
      "Read a new frame:  True\n",
      "Read a new frame:  True\n",
      "Read a new frame:  True\n",
      "Read a new frame:  True\n",
      "Read a new frame:  True\n",
      "Read a new frame:  True\n",
      "Read a new frame:  True\n",
      "Read a new frame:  True\n",
      "Read a new frame:  True\n",
      "Read a new frame:  True\n",
      "Read a new frame:  True\n",
      "Read a new frame:  True\n",
      "Read a new frame:  True\n",
      "Read a new frame:  True\n",
      "Read a new frame:  True\n",
      "Read a new frame:  True\n",
      "Read a new frame:  True\n",
      "Read a new frame:  True\n",
      "Read a new frame:  True\n",
      "Read a new frame:  True\n",
      "Read a new frame:  True\n",
      "Read a new frame:  True\n",
      "Read a new frame:  True\n",
      "Read a new frame:  True\n",
      "Read a new frame:  True\n",
      "Read a new frame:  True\n",
      "Read a new frame:  True\n",
      "Read a new frame:  True\n",
      "Read a new frame:  True\n",
      "Read a new frame:  True\n",
      "Read a new frame:  True\n",
      "Read a new frame:  True\n",
      "Read a new frame:  True\n",
      "Read a new frame:  True\n",
      "Read a new frame:  True\n",
      "Read a new frame:  True\n",
      "Read a new frame:  True\n",
      "Read a new frame:  True\n",
      "Read a new frame:  True\n",
      "Read a new frame:  True\n",
      "Read a new frame:  True\n",
      "Read a new frame:  True\n",
      "Read a new frame:  True\n",
      "Read a new frame:  True\n",
      "Read a new frame:  True\n",
      "Read a new frame:  True\n",
      "Read a new frame:  True\n",
      "Read a new frame:  True\n",
      "Read a new frame:  True\n",
      "Read a new frame:  True\n",
      "Read a new frame:  True\n",
      "Read a new frame:  True\n",
      "Read a new frame:  True\n",
      "Read a new frame:  True\n",
      "Read a new frame:  True\n",
      "Read a new frame:  True\n",
      "Read a new frame:  True\n",
      "Read a new frame:  True\n",
      "Read a new frame:  True\n",
      "Read a new frame:  True\n",
      "Read a new frame:  True\n",
      "Read a new frame:  True\n",
      "Read a new frame:  True\n",
      "Read a new frame:  True\n",
      "Read a new frame:  True\n",
      "Read a new frame:  True\n",
      "Read a new frame:  True\n",
      "Read a new frame:  True\n",
      "Read a new frame:  True\n",
      "Read a new frame:  True\n",
      "Read a new frame:  True\n",
      "Read a new frame:  True\n",
      "Read a new frame:  True\n",
      "Read a new frame:  True\n",
      "Read a new frame:  True\n",
      "Read a new frame:  True\n",
      "Read a new frame:  True\n",
      "Read a new frame:  True\n",
      "Read a new frame:  True\n",
      "Read a new frame:  True\n",
      "Read a new frame:  True\n",
      "Read a new frame:  True\n",
      "Read a new frame:  True\n",
      "Read a new frame:  True\n",
      "Read a new frame:  True\n",
      "Read a new frame:  True\n",
      "Read a new frame:  True\n",
      "Read a new frame:  True\n",
      "Read a new frame:  True\n",
      "Read a new frame:  True\n",
      "Read a new frame:  True\n",
      "Read a new frame:  True\n",
      "Read a new frame:  True\n",
      "Read a new frame:  True\n",
      "Read a new frame:  True\n",
      "Read a new frame:  True\n",
      "Read a new frame:  True\n",
      "Read a new frame:  True\n",
      "Read a new frame:  True\n",
      "Read a new frame:  True\n",
      "Read a new frame:  True\n",
      "Read a new frame:  True\n",
      "Read a new frame:  True\n",
      "Read a new frame:  True\n",
      "Read a new frame:  True\n",
      "Read a new frame:  True\n",
      "Read a new frame:  True\n",
      "Read a new frame:  True\n",
      "Read a new frame:  True\n",
      "Read a new frame:  True\n",
      "Read a new frame:  True\n",
      "Read a new frame:  True\n",
      "Read a new frame:  True\n",
      "Read a new frame:  True\n",
      "Read a new frame:  True\n",
      "Read a new frame:  True\n",
      "Read a new frame:  True\n",
      "Read a new frame:  True\n",
      "Read a new frame:  True\n",
      "Read a new frame:  True\n",
      "Read a new frame:  True\n",
      "Read a new frame:  True\n",
      "Read a new frame:  True\n",
      "Read a new frame:  True\n",
      "Read a new frame:  True\n",
      "Read a new frame:  True\n",
      "Read a new frame:  True\n",
      "Read a new frame:  True\n",
      "Read a new frame:  True\n",
      "Read a new frame:  True\n",
      "Read a new frame:  True\n",
      "Read a new frame:  True\n",
      "Read a new frame:  True\n",
      "Read a new frame:  True\n",
      "Read a new frame:  True\n",
      "Read a new frame:  True\n",
      "Read a new frame:  True\n",
      "Read a new frame:  True\n",
      "Read a new frame:  True\n",
      "Read a new frame:  True\n",
      "Read a new frame:  True\n",
      "Read a new frame:  True\n",
      "Read a new frame:  True\n",
      "Read a new frame:  True\n",
      "Read a new frame:  True\n",
      "Read a new frame:  True\n",
      "Read a new frame:  True\n",
      "Read a new frame:  True\n",
      "Read a new frame:  True\n",
      "Read a new frame:  True\n",
      "Read a new frame:  True\n",
      "Read a new frame:  True\n",
      "Read a new frame:  True\n",
      "Read a new frame:  True\n",
      "Read a new frame:  True\n",
      "Read a new frame:  True\n",
      "Read a new frame:  True\n",
      "Read a new frame:  True\n",
      "Read a new frame:  True\n",
      "Read a new frame:  True\n",
      "Read a new frame:  True\n",
      "Read a new frame:  True\n",
      "Read a new frame:  True\n",
      "Read a new frame:  True\n",
      "Read a new frame:  True\n",
      "Read a new frame:  True\n",
      "Read a new frame:  True\n",
      "Read a new frame:  True\n",
      "Read a new frame:  True\n",
      "Read a new frame:  True\n",
      "Read a new frame:  True\n",
      "Read a new frame:  True\n",
      "Read a new frame:  True\n",
      "Read a new frame:  True\n",
      "Read a new frame:  True\n",
      "Read a new frame:  True\n",
      "Read a new frame:  True\n",
      "Read a new frame:  True\n",
      "Read a new frame:  True\n",
      "Read a new frame:  True\n",
      "Read a new frame:  True\n",
      "Read a new frame:  True\n",
      "Read a new frame:  True\n",
      "Read a new frame:  True\n",
      "Read a new frame:  True\n",
      "Read a new frame:  True\n",
      "Read a new frame:  True\n",
      "Read a new frame:  True\n",
      "Read a new frame:  True\n",
      "Read a new frame:  True\n",
      "Read a new frame:  True\n",
      "Read a new frame:  True\n",
      "Read a new frame:  True\n",
      "Read a new frame:  True\n",
      "Read a new frame:  True\n",
      "Read a new frame:  True\n",
      "Read a new frame:  True\n",
      "Read a new frame:  True\n",
      "Read a new frame:  True\n",
      "Read a new frame:  True\n",
      "Read a new frame:  True\n",
      "Read a new frame:  True\n",
      "Read a new frame:  True\n",
      "Read a new frame:  True\n",
      "Read a new frame:  True\n",
      "Read a new frame:  True\n",
      "Read a new frame:  True\n",
      "Read a new frame:  True\n",
      "Read a new frame:  True\n",
      "Read a new frame:  True\n",
      "Read a new frame:  True\n",
      "Read a new frame:  True\n",
      "Read a new frame:  True\n",
      "Read a new frame:  True\n",
      "Read a new frame:  True\n",
      "Read a new frame:  True\n",
      "Read a new frame:  True\n",
      "Read a new frame:  True\n",
      "Read a new frame:  True\n",
      "Read a new frame:  True\n",
      "Read a new frame:  True\n",
      "Read a new frame:  True\n",
      "Read a new frame:  True\n",
      "Read a new frame:  True\n",
      "Read a new frame:  True\n",
      "Read a new frame:  True\n",
      "Read a new frame:  True\n",
      "Read a new frame:  True\n",
      "Read a new frame:  True\n",
      "Read a new frame:  True\n",
      "Read a new frame:  True\n",
      "Read a new frame:  True\n",
      "Read a new frame:  True\n",
      "Read a new frame:  True\n",
      "Read a new frame:  True\n",
      "Read a new frame:  True\n",
      "Read a new frame:  True\n",
      "Read a new frame:  True\n",
      "Read a new frame:  True\n",
      "Read a new frame:  True\n",
      "Read a new frame:  True\n",
      "Read a new frame:  True\n",
      "Read a new frame:  True\n",
      "Read a new frame:  True\n",
      "Read a new frame:  True\n",
      "Read a new frame:  True\n",
      "Read a new frame:  True\n",
      "Read a new frame:  True\n",
      "Read a new frame:  True\n",
      "Read a new frame:  True\n",
      "Read a new frame:  True\n",
      "Read a new frame:  True\n",
      "Read a new frame:  True\n",
      "Read a new frame:  True\n",
      "Read a new frame:  True\n",
      "Read a new frame:  True\n",
      "Read a new frame:  True\n",
      "Read a new frame:  True\n",
      "Read a new frame:  True\n",
      "Read a new frame:  True\n",
      "Read a new frame:  True\n",
      "Read a new frame:  True\n",
      "Read a new frame:  True\n",
      "Read a new frame:  True\n",
      "Read a new frame:  True\n",
      "Read a new frame:  True\n",
      "Read a new frame:  True\n",
      "Read a new frame:  True\n",
      "Read a new frame:  True\n",
      "Read a new frame:  True\n",
      "Read a new frame:  True\n",
      "Read a new frame:  True\n",
      "Read a new frame:  True\n",
      "Read a new frame:  True\n",
      "Read a new frame:  True\n",
      "Read a new frame:  True\n",
      "Read a new frame:  True\n",
      "Read a new frame:  True\n",
      "Read a new frame:  True\n",
      "Read a new frame:  True\n",
      "Read a new frame:  True\n",
      "Read a new frame:  True\n",
      "Read a new frame:  True\n",
      "Read a new frame:  True\n",
      "Read a new frame:  True\n",
      "Read a new frame:  True\n",
      "Read a new frame:  True\n",
      "Read a new frame:  True\n",
      "Read a new frame:  True\n",
      "Read a new frame:  True\n",
      "Read a new frame:  True\n",
      "Read a new frame:  True\n",
      "Read a new frame:  True\n",
      "Read a new frame:  True\n",
      "Read a new frame:  True\n",
      "Read a new frame:  True\n",
      "Read a new frame:  True\n",
      "Read a new frame:  True\n",
      "Read a new frame:  True\n",
      "Read a new frame:  True\n",
      "Read a new frame:  True\n",
      "Read a new frame:  True\n",
      "Read a new frame:  True\n",
      "Read a new frame:  True\n",
      "Read a new frame:  True\n",
      "Read a new frame:  True\n",
      "Read a new frame:  True\n",
      "Read a new frame:  True\n",
      "Read a new frame:  True\n",
      "Read a new frame:  True\n",
      "Read a new frame:  True\n",
      "Read a new frame:  True\n",
      "Read a new frame:  True\n",
      "Read a new frame:  True\n",
      "Read a new frame:  True\n",
      "Read a new frame:  True\n",
      "Read a new frame:  True\n",
      "Read a new frame:  True\n",
      "Read a new frame:  True\n",
      "Read a new frame:  True\n",
      "Read a new frame:  True\n",
      "Read a new frame:  True\n",
      "Read a new frame:  False\n"
     ]
    }
   ],
   "source": [
    "# vidcap = cv.VideoCapture(r\"D:\\Not yours\\NU\\Master's\\2nd semester\\Introduction to image processing\\Project\\source_code\\los_angeles.mp4\")\n",
    "\n",
    "# directory = r\"D:\\Not yours\\NU\\Master's\\2nd semester\\Introduction to image processing\\Project\\Video\"\n",
    "# os.chdir(directory)\n",
    "\n",
    "# success,image = vidcap.read()\n",
    "# count = 0\n",
    "\n",
    "# while success:\n",
    "#   cv.imwrite(\"frame%d.jpg\" % count, image)     # save frame as JPEG file      \n",
    "#   success,image = vidcap.read()\n",
    "# #   print('Read a new frame: ', success)\n",
    "#   count += 1"
   ]
  },
  {
   "cell_type": "markdown",
   "metadata": {},
   "source": [
    "### #############################################################################################"
   ]
  },
  {
   "cell_type": "code",
   "execution_count": 1,
   "metadata": {},
   "outputs": [],
   "source": [
    "import cv2 as cv\n",
    "import numpy as np\n",
    "import os\n",
    "import math"
   ]
  },
  {
   "cell_type": "code",
   "execution_count": 2,
   "metadata": {},
   "outputs": [],
   "source": [
    "#to resize an image\n",
    "def resize(img, scale_percent):\n",
    "#     scale_percent = 400 # percent of original size\n",
    "    width = int(img.shape[1] * scale_percent / 100)\n",
    "    height = int(img.shape[0] * scale_percent / 100)\n",
    "    dim = (width, height)\n",
    "  \n",
    "    # resize image\n",
    "    resized = cv.resize(img, dim, interpolation = cv.INTER_AREA)\n",
    "    return resized"
   ]
  },
  {
   "cell_type": "code",
   "execution_count": 3,
   "metadata": {},
   "outputs": [],
   "source": [
    "frames = os.listdir(r\"D:\\Not yours\\NU\\Master's\\2nd semester\\Introduction to image processing\\Project\\Video\")\n",
    "\n",
    "for i in  range(len(frames)):\n",
    "    img = cv.imread(r\"D:\\Not yours\\NU\\Master's\\2nd semester\\Introduction to image processing\\Project\\Video\\frame\" + str(i) + \".jpg\")\n",
    "    img = resize(img, 50)\n",
    "    cv.imshow(\"traffic\", img)\n",
    "    key = cv.waitKey(25)\n",
    "    if key & 0xFF == ord('q'):\n",
    "        break\n",
    "cv.destroyAllWindows()"
   ]
  },
  {
   "cell_type": "code",
   "execution_count": 4,
   "metadata": {},
   "outputs": [],
   "source": [
    "def Car_detection(original_1, original_2, resize_factor = 100 ,x1 = 100, y1 = 150, width = 400, height = 100):\n",
    "    ############### Car detection ########################\n",
    "#     original_1 = cv.imread(r\"D:\\Not yours\\NU\\Master's\\2nd semester\\Introduction to image processing\\Project\\source_code\\frames\\\\\"+ frames[i])\n",
    "    frame1 = cv.cvtColor(original_1, cv.COLOR_BGR2GRAY)\n",
    "#     frame1 = cv.GaussianBlur(frame1, (3,3), 0 )\n",
    "#     frame1 = resize(frame1, resize_factor)\n",
    "#     original_1 = resize(original_1, resize_factor)\n",
    "\n",
    "#     original_2 = cv.imread(r\"D:\\Not yours\\NU\\Master's\\2nd semester\\Introduction to image processing\\Project\\source_code\\frames\\\\\"+ frames[i+1])\n",
    "    frame2 = cv.cvtColor(original_2, cv.COLOR_BGR2GRAY)\n",
    "#     frame2 = cv.GaussianBlur(frame2, (3,3), 0 )\n",
    "#     frame2 = resize(frame2, resize_factor)\n",
    "#     original_2 = resize(original_2, resize_factor)\n",
    "\n",
    "\n",
    "    #diff bet two frames\n",
    "    diff = cv.absdiff(frame2, frame1)\n",
    "\n",
    "    #thresholding\n",
    "    _, thresh = cv.threshold(diff, 50, 255, cv.THRESH_BINARY)\n",
    "\n",
    "    #Dilation\n",
    "    dilation_kernel = np.ones((3,3), np.uint8)\n",
    "    dilated_img = cv.dilate(thresh, dilation_kernel, iterations = 5)\n",
    "    \n",
    "    \n",
    "    ############################################################################\n",
    "#     kernel = cv.getStructuringElement(cv.MORPH_ELLIPSE, (3, 3))\n",
    "#     closing = cv.morphologyEx(dilated_img, cv.MORPH_CLOSE, kernel) \n",
    "#     Image.fromarray(closing)\n",
    "    \n",
    "    #########################################################################################################\n",
    "    #find the contours in the image\n",
    "    # def get_contours(img, start_point = (0,0), width = img.shape[1], height = img.shape[0]):\n",
    "\n",
    "    contours, hierarchy = cv.findContours(dilated_img, cv.RETR_TREE,cv.CHAIN_APPROX_NONE)\n",
    "    \n",
    "    detected_rects = []#### ******************************\n",
    "    \n",
    "#     img_with_contours = cv.drawContours(frame1.copy(), contours, -1, (0,255,0), 3)\n",
    "#     x1, y1 = (100,130)\n",
    "#     width = 400\n",
    "#     height = frame1.shape[0] - y1\n",
    "    for cnt in contours:\n",
    "        x, y, w, h = cv.boundingRect(cnt)\n",
    "        if x>x1 and y > y1 and x < x1+width and y<y1+height and (cv.contourArea(cnt) >= 700):\n",
    "            detected_rects.append([x,y,w,h]) ### *************************************\n",
    "                ############################\n",
    "            cv.rectangle(original_1, (x,y), (x+w, y+h), (0, 255, 0), 2, cv.LINE_AA)\n",
    "            \n",
    "    return detected_rects ### *************************************\n",
    "\n",
    "#     return cv.rectangle(original_1, (x1, y1), (x1+width, y1+height), (0, 0, 255), 2, cv.LINE_AA)\n",
    "#     cv.imshow(\"Rectangles\", original_1)\n",
    "#     key = cv.waitKey(70)\n",
    "#     if key == 27:\n",
    "#         break\n",
    "# cv.destroyAllWindows()"
   ]
  },
  {
   "cell_type": "code",
   "execution_count": null,
   "metadata": {},
   "outputs": [],
   "source": []
  },
  {
   "cell_type": "code",
   "execution_count": 5,
   "metadata": {},
   "outputs": [],
   "source": [
    "class carTracker:\n",
    "    def __init__(self):\n",
    "        self.center_points = {}\n",
    "        self.id_number = 0\n",
    "        self.used = {}\n",
    "        \n",
    "        \n",
    "    def update(self, detected_rects):\n",
    "        rect_ids = []\n",
    "        \n",
    "        for rect in detected_rects:\n",
    "            x, y, w, h = rect\n",
    "            cent_x = (2*x + w)//2\n",
    "            cent_y = (2*y + h)//2\n",
    "            \n",
    "            the_same_object = False\n",
    "            \n",
    "            for id, pt in self.center_points.items():\n",
    "                distance = math.hypot(cent_x - pt[0][0], cent_y - pt[0][1])\n",
    "                \n",
    "                ###################\n",
    "                # If top-left inner box corner is inside the bounding box\n",
    "                if pt[1][0] < x and pt[1][1] < y:\n",
    "                    # If bottom-right inner box corner is inside the bounding box\n",
    "                    if x + w < pt[1][0] + pt[1][2] and y + h < pt[1][1] + pt[1][3]:\n",
    "                        the_same_object = True\n",
    "\n",
    "                if x < pt[1][0] and y < pt[1][1]:\n",
    "                    # If bottom-right inner box corner is inside the bounding box\n",
    "                    if pt[1][0] + pt[1][2] < x + w and pt[1][1] + pt[1][3] < y + h:\n",
    "                        the_same_object = True\n",
    "                    \n",
    "                ###################\n",
    "                \n",
    "                if distance < 25:\n",
    "                    the_same_object = True\n",
    "                    self.center_points[id] = [(cent_x, cent_y)]\n",
    "                    self.center_points[id].append([x, y, w, h, id])\n",
    "                    self.used[id] = 0\n",
    "                    rect_ids.append([x, y, w, h, id])\n",
    "                    break\n",
    "            if the_same_object == False:\n",
    "                self.center_points[self.id_number] = [(cent_x, cent_y)]\n",
    "                self.center_points[self.id_number].append([x, y, w, h, self.id_number])\n",
    "                self.used[self.id_number] = 0\n",
    "                rect_ids.append([x, y, w, h, self.id_number])\n",
    "                self.id_number += 1\n",
    "                \n",
    "        new_center_points = {}\n",
    "        ###########################################\n",
    "#         for obj in rect_ids:\n",
    "#             _,_,_,_, obj_id = obj\n",
    "#             center = self.center_points[obj_id]\n",
    "# #             print(center)\n",
    "#             new_center_points[obj_id] = center\n",
    "##########################################\n",
    "######################################################\n",
    "        all_data_within = []\n",
    "        for obj_id, obj in self.center_points.items():\n",
    "            if self.center_points[obj_id][0][1]>500 or self.used[obj_id]>10:\n",
    "                continue\n",
    "            \n",
    "            self.used[obj_id] += 1\n",
    "            center = self.center_points[obj_id]\n",
    "#             print(center)\n",
    "            all_data_within.append(center[1])\n",
    "            new_center_points[obj_id] = center\n",
    "\n",
    "#########################################\n",
    "            \n",
    "        self.center_points = new_center_points.copy()\n",
    "#         return rect_ids\n",
    "#         print(all_data_within)\n",
    "        return all_data_within\n",
    "        "
   ]
  },
  {
   "cell_type": "code",
   "execution_count": null,
   "metadata": {},
   "outputs": [],
   "source": []
  },
  {
   "cell_type": "code",
   "execution_count": null,
   "metadata": {},
   "outputs": [],
   "source": []
  },
  {
   "cell_type": "code",
   "execution_count": 6,
   "metadata": {},
   "outputs": [],
   "source": [
    "tracker = carTracker() ### *******************************\n",
    "frame1 = cv.imread(r\"D:\\Not yours\\NU\\Master's\\2nd semester\\Introduction to image processing\\Project\\Video\\frame\" + str(i) + \".jpg\")\n",
    "\n",
    "resize_factor = 50\n",
    "frame1 = resize(frame1, resize_factor)\n",
    "\n",
    "#Saving a video\n",
    "\n",
    "w = frame1.shape[1]\n",
    "h = frame1.shape[0]\n",
    "fourcc = cv.VideoWriter_fourcc(*'mp4v') \n",
    "video = cv.VideoWriter('video12.avi', fourcc, 6, (w, h))\n",
    "\n",
    "\n",
    "for i in range(1, len(frames)-1):\n",
    "    frame2 = cv.imread(r\"D:\\Not yours\\NU\\Master's\\2nd semester\\Introduction to image processing\\Project\\Video\\frame\" + str(i) + \".jpg\")\n",
    "    \n",
    "    frame2 = resize(frame2, resize_factor)\n",
    "    x1 = 200\n",
    "    y1 = 250\n",
    "    width = 400\n",
    "    height = frame2.shape[0] - y1 -100\n",
    "    \n",
    "    detected_rects = Car_detection(frame1.copy(), frame2.copy(), 50, x1, y1, width, height)\n",
    "    \n",
    "    rect_ids = tracker.update(detected_rects)\n",
    "    for  rect_id in rect_ids:\n",
    "        x,y,w,h,id = rect_id\n",
    "        if y < 400:\n",
    "            cv.putText(frame1, str(id),(x,y-15), cv.FONT_HERSHEY_SIMPLEX, 0.8, (0,0,255), 2)\n",
    "            cv.rectangle(frame1, (x,y),(x+w, y+h), (0,255,0),2,  cv.LINE_AA)\n",
    "    \n",
    "    \n",
    "    cv.rectangle(frame1, (x1, y1), (x1+width, y1+height), (0, 0, 255), 2, cv.LINE_AA)\n",
    "    \n",
    "    video.write(frame1)\n",
    "    \n",
    "    cv.imshow(\"detected cars\", frame1)\n",
    "    key = cv.waitKey(25)\n",
    "    frame1 = frame2\n",
    "    if key & 0xFF == ord('q'):\n",
    "        break\n",
    "cv.destroyAllWindows()\n",
    "video.release()\n",
    "\n",
    "\n"
   ]
  },
  {
   "cell_type": "code",
   "execution_count": 29,
   "metadata": {},
   "outputs": [],
   "source": [
    "l = {}\n",
    "l[0]=[(1,2)] \n",
    "l[0].append((0,1,2,3,4,5))"
   ]
  },
  {
   "cell_type": "code",
   "execution_count": 30,
   "metadata": {},
   "outputs": [
    {
     "data": {
      "text/plain": [
       "{0: [(1, 2), (0, 1, 2, 3, 4, 5)]}"
      ]
     },
     "execution_count": 30,
     "metadata": {},
     "output_type": "execute_result"
    }
   ],
   "source": [
    "l"
   ]
  },
  {
   "cell_type": "code",
   "execution_count": 83,
   "metadata": {},
   "outputs": [],
   "source": [
    "\n",
    "# if (cap.isOpened()== False):\n",
    "#   print(\"Error opening video stream or file\")\n",
    "# else:\n",
    "    \n",
    "#     frame1 = cap.read()\n",
    "#     while cap.isOpened():\n",
    "#         ret, frame2 = cap.read()\n",
    "        \n",
    "        \n",
    "        \n",
    "#         if ret == True:\n",
    "#             frame1 = resize(frame1, 50)\n",
    "#             frame2 = resize(frame2, 50)\n",
    "#             frame_with_detected_cars = Car_detection(frame1.copy(), frame2.copy())\n",
    "            \n",
    "#             cv.imshow(\"Traffic\", frame_with_detected_cars)\n",
    "# #             key = cv.waitKey(1)\n",
    "#             if cv.waitKey(25) & 0xFF == ord('q'):\n",
    "#                 break\n",
    "#         else:\n",
    "#             break\n",
    "#         frame1 = frame2\n",
    "\n",
    "#     cap.release()\n",
    "#     cv.destroyAllWindows()\n",
    "    "
   ]
  },
  {
   "cell_type": "code",
   "execution_count": 2,
   "metadata": {},
   "outputs": [],
   "source": [
    "cap = cv.VideoCapture(r\"D:\\Not yours\\NU\\Master's\\2nd semester\\Introduction to image processing\\Project\\source_code\\los_angeles.mp4\")\n"
   ]
  },
  {
   "cell_type": "code",
   "execution_count": 6,
   "metadata": {},
   "outputs": [
    {
     "data": {
      "text/plain": [
       "<VideoCapture 0000017095044130>"
      ]
     },
     "execution_count": 6,
     "metadata": {},
     "output_type": "execute_result"
    }
   ],
   "source": [
    "cap"
   ]
  },
  {
   "cell_type": "code",
   "execution_count": 5,
   "metadata": {},
   "outputs": [
    {
     "data": {
      "text/plain": [
       "bool"
      ]
     },
     "execution_count": 5,
     "metadata": {},
     "output_type": "execute_result"
    }
   ],
   "source": [
    "frame1 = cap.read()\n",
    "type(frame1[0])"
   ]
  },
  {
   "cell_type": "code",
   "execution_count": 4,
   "metadata": {},
   "outputs": [
    {
     "name": "stderr",
     "output_type": "stream",
     "text": [
      "<ipython-input-4-92a5f4bb39ac>:1: VisibleDeprecationWarning: Creating an ndarray from ragged nested sequences (which is a list-or-tuple of lists-or-tuples-or ndarrays with different lengths or shapes) is deprecated. If you meant to do this, you must specify 'dtype=object' when creating the ndarray\n",
      "  np.array(frame1).shape\n"
     ]
    },
    {
     "data": {
      "text/plain": [
       "(2,)"
      ]
     },
     "execution_count": 4,
     "metadata": {},
     "output_type": "execute_result"
    }
   ],
   "source": [
    "np.array(frame1).shape"
   ]
  },
  {
   "cell_type": "code",
   "execution_count": null,
   "metadata": {},
   "outputs": [],
   "source": []
  },
  {
   "cell_type": "code",
   "execution_count": 10,
   "metadata": {},
   "outputs": [],
   "source": [
    "\n",
    " \n",
    "cv.imshow(\"difference\", frame1)\n",
    "cv.waitKey(0)\n",
    "cv.destroyAllWindows()"
   ]
  },
  {
   "cell_type": "code",
   "execution_count": 11,
   "metadata": {},
   "outputs": [
    {
     "data": {
      "text/plain": [
       "dtype('uint8')"
      ]
     },
     "execution_count": 11,
     "metadata": {},
     "output_type": "execute_result"
    }
   ],
   "source": [
    "diff.dtype"
   ]
  },
  {
   "cell_type": "code",
   "execution_count": 15,
   "metadata": {},
   "outputs": [],
   "source": [
    "cv.imshow(\"Image\", img_with_contours)\n",
    "cv.waitKey(0)\n",
    "cv.destroyAllWindows()"
   ]
  },
  {
   "cell_type": "code",
   "execution_count": 14,
   "metadata": {},
   "outputs": [
    {
     "data": {
      "text/plain": [
       "(360, 640)"
      ]
     },
     "execution_count": 14,
     "metadata": {},
     "output_type": "execute_result"
    }
   ],
   "source": [
    "img_with_contours.shape"
   ]
  },
  {
   "cell_type": "code",
   "execution_count": 11,
   "metadata": {},
   "outputs": [],
   "source": [
    "x = sorted([1,2,3])"
   ]
  },
  {
   "cell_type": "code",
   "execution_count": 12,
   "metadata": {},
   "outputs": [
    {
     "data": {
      "text/plain": [
       "[1, 2, 3]"
      ]
     },
     "execution_count": 12,
     "metadata": {},
     "output_type": "execute_result"
    }
   ],
   "source": [
    "x"
   ]
  },
  {
   "cell_type": "markdown",
   "metadata": {},
   "source": [
    "## To remove bounding boxes inside othere ones"
   ]
  },
  {
   "cell_type": "markdown",
   "metadata": {},
   "source": [
    "https://stackoverflow.com/questions/60949898/how-to-know-if-a-bounding-boxrectangle-lies-inside-another-bounding-boxrectan"
   ]
  },
  {
   "cell_type": "code",
   "execution_count": 80,
   "metadata": {},
   "outputs": [
    {
     "name": "stdout",
     "output_type": "stream",
     "text": [
      "The entire box is inside the bounding box.\n"
     ]
    }
   ],
   "source": [
    "# Bounding box\n",
    "boundb = {\n",
    "    'x': 150,\n",
    "    'y': 150,\n",
    "    'height': 50,\n",
    "    'width': 100\n",
    "}\n",
    "\n",
    "# Inner box\n",
    "innerb = {\n",
    "    'x': 160,\n",
    "    'y': 160,\n",
    "    'height': 25,\n",
    "    'width': 25\n",
    "}\n",
    "\n",
    "# If top-left inner box corner is inside the bounding box\n",
    "if boundb['x'] < innerb['x'] and boundb['y'] < innerb['y']:\n",
    "    # If bottom-right inner box corner is inside the bounding box\n",
    "    if innerb['x'] + innerb['width'] < boundb['x'] + boundb['width'] \\\n",
    "            and innerb['y'] + innerb['height'] < boundb['y'] + boundb['height']:\n",
    "        print('The entire box is inside the bounding box.')\n",
    "    else:\n",
    "        print('Some part of the box is outside the bounding box.')\n"
   ]
  },
  {
   "cell_type": "code",
   "execution_count": null,
   "metadata": {},
   "outputs": [],
   "source": []
  }
 ],
 "metadata": {
  "kernelspec": {
   "display_name": "Python 3",
   "language": "python",
   "name": "python3"
  },
  "language_info": {
   "codemirror_mode": {
    "name": "ipython",
    "version": 3
   },
   "file_extension": ".py",
   "mimetype": "text/x-python",
   "name": "python",
   "nbconvert_exporter": "python",
   "pygments_lexer": "ipython3",
   "version": "3.8.5"
  }
 },
 "nbformat": 4,
 "nbformat_minor": 4
}
