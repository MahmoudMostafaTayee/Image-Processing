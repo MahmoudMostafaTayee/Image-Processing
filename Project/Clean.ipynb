{
 "cells": [
  {
   "cell_type": "code",
   "execution_count": 4,
   "metadata": {},
   "outputs": [],
   "source": [
    "import cv2 as cv\n",
    "import numpy as np\n",
    "import os"
   ]
  },
  {
   "cell_type": "code",
   "execution_count": 5,
   "metadata": {},
   "outputs": [],
   "source": [
    "#to resize an image\n",
    "def resize(img, scale_percent):\n",
    "#     scale_percent = 400 # percent of original size\n",
    "    width = int(img.shape[1] * scale_percent / 100)\n",
    "    height = int(img.shape[0] * scale_percent / 100)\n",
    "    dim = (width, height)\n",
    "  \n",
    "    # resize image\n",
    "    resized = cv.resize(img, dim, interpolation = cv.INTER_AREA)\n",
    "    return resized"
   ]
  },
  {
   "cell_type": "code",
   "execution_count": 6,
   "metadata": {},
   "outputs": [],
   "source": [
    "frames = os.listdir(r\"D:\\Not yours\\NU\\Master's\\2nd semester\\Introduction to image processing\\Project\\Video\")\n",
    "\n",
    "\n",
    "\n",
    "for i in  range(len(frames)):\n",
    "    img = cv.imread(r\"D:\\Not yours\\NU\\Master's\\2nd semester\\Introduction to image processing\\Project\\Video\\frame\" + str(i) + \".jpg\")\n",
    "    img = resize(img, 50)\n",
    "    cv.imshow(\"traffic\", img)\n",
    "    key = cv.waitKey(25)\n",
    "    if key & 0xFF == ord('q'):\n",
    "        break\n",
    "cv.destroyAllWindows()"
   ]
  },
  {
   "cell_type": "code",
   "execution_count": 12,
   "metadata": {},
   "outputs": [],
   "source": [
    "def Car_detection(original_1, original_2, resize_factor = 100 ,x1 = 100, y1 = 150, width = 400, height = 100):\n",
    "    ############### Car detection ########################\n",
    "#     original_1 = cv.imread(r\"D:\\Not yours\\NU\\Master's\\2nd semester\\Introduction to image processing\\Project\\source_code\\frames\\\\\"+ frames[i])\n",
    "    frame1 = cv.cvtColor(original_1, cv.COLOR_BGR2GRAY)\n",
    "#     frame1 = resize(frame1, resize_factor)\n",
    "#     original_1 = resize(original_1, resize_factor)\n",
    "\n",
    "#     original_2 = cv.imread(r\"D:\\Not yours\\NU\\Master's\\2nd semester\\Introduction to image processing\\Project\\source_code\\frames\\\\\"+ frames[i+1])\n",
    "    frame2 = cv.cvtColor(original_2, cv.COLOR_BGR2GRAY)\n",
    "#     frame2 = resize(frame2, resize_factor)\n",
    "#     original_2 = resize(original_2, resize_factor)\n",
    "\n",
    "\n",
    "    #diff bet two frames\n",
    "    diff = cv.absdiff(frame2, frame1)\n",
    "\n",
    "    #thresholding\n",
    "    _, thresh = cv.threshold(diff, 50, 255, cv.THRESH_BINARY)\n",
    "\n",
    "    #Dilation\n",
    "    dilation_kernel = np.ones((3,3), np.uint8)\n",
    "    dilated_img = cv.dilate(thresh, dilation_kernel, iterations = 5)\n",
    "\n",
    "\n",
    "    #########################################################################################################\n",
    "    #find the contours in the image\n",
    "    # def get_contours(img, start_point = (0,0), width = img.shape[1], height = img.shape[0]):\n",
    "\n",
    "    contours, hierarchy = cv.findContours(dilated_img, cv.RETR_TREE,cv.CHAIN_APPROX_NONE)\n",
    "\n",
    "    img_with_contours = cv.drawContours(frame1.copy(), contours, -1, (0,255,0), 7)\n",
    "#     x1, y1 = (100,130)\n",
    "#     width = 400\n",
    "#     height = frame1.shape[0] - y1\n",
    "    for cnt in contours:\n",
    "        x, y, w, h = cv.boundingRect(cnt)\n",
    "        if x>x1 and y > y1 and x < x1+width and y<y1+height and (cv.contourArea(cnt) >= 700):\n",
    "            cv.rectangle(original_1, (x,y), (x+w, y+h), (0, 255, 0), 2, cv.LINE_AA)\n",
    "\n",
    "    return cv.rectangle(original_1, (x1, y1), (x1+width, y1+height), (0, 0, 255), 2, cv.LINE_AA)\n",
    "#     cv.imshow(\"Rectangles\", original_1)\n",
    "#     key = cv.waitKey(70)\n",
    "#     if key == 27:\n",
    "#         break\n",
    "# cv.destroyAllWindows()"
   ]
  },
  {
   "cell_type": "code",
   "execution_count": 20,
   "metadata": {},
   "outputs": [],
   "source": [
    "frame1 = cv.imread(r\"D:\\Not yours\\NU\\Master's\\2nd semester\\Introduction to image processing\\Project\\Video\\frame\" + str(i) + \".jpg\")\n",
    "\n",
    "resize_factor = 50\n",
    "frame1 = resize(frame1, resize_factor)\n",
    "\n",
    "for i in range(1, len(frames)-1):\n",
    "    frame2 = cv.imread(r\"D:\\Not yours\\NU\\Master's\\2nd semester\\Introduction to image processing\\Project\\Video\\frame\" + str(i) + \".jpg\")\n",
    "    \n",
    "    frame2 = resize(frame2, resize_factor)\n",
    "    x1 = 200\n",
    "    y1 = 250\n",
    "    width = 400\n",
    "    height = frame2.shape[0] - y1 -100\n",
    "    \n",
    "    frame_with_detected_cars = Car_detection(frame1.copy(), frame2.copy(), 50, x1, y1, width, height)\n",
    "    \n",
    "    \n",
    "    \n",
    "    \n",
    "    frame1 = frame2\n",
    "    \n",
    "    cv.imshow(\"detected cars\", frame_with_detected_cars)\n",
    "    key = cv.waitKey(25)\n",
    "    if key & 0xFF == ord('q'):\n",
    "        break\n",
    "cv.destroyAllWindows()"
   ]
  },
  {
   "cell_type": "code",
   "execution_count": null,
   "metadata": {},
   "outputs": [],
   "source": []
  },
  {
   "cell_type": "code",
   "execution_count": null,
   "metadata": {},
   "outputs": [],
   "source": []
  }
 ],
 "metadata": {
  "kernelspec": {
   "display_name": "Python 3",
   "language": "python",
   "name": "python3"
  },
  "language_info": {
   "codemirror_mode": {
    "name": "ipython",
    "version": 3
   },
   "file_extension": ".py",
   "mimetype": "text/x-python",
   "name": "python",
   "nbconvert_exporter": "python",
   "pygments_lexer": "ipython3",
   "version": "3.8.5"
  }
 },
 "nbformat": 4,
 "nbformat_minor": 4
}
